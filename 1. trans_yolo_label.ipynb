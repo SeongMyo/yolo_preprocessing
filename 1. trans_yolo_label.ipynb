{
 "cells": [
  {
   "cell_type": "code",
   "execution_count": 1,
   "id": "3b8c1ee7-907d-4a9e-82a4-e2f921907a51",
   "metadata": {},
   "outputs": [],
   "source": [
    "# 모듈 임포트\n",
    "import os, json\n",
    "import pandas as pd\n",
    "import matplotlib.pyplot as plt\n",
    "from glob import glob"
   ]
  },
  {
   "cell_type": "code",
   "execution_count": 2,
   "id": "c0ed7108-576b-4283-b228-26bc8c0543be",
   "metadata": {},
   "outputs": [],
   "source": [
    "# 파일 경로 리스트\n",
    "train_json_list = glob(\"C:\\\\data\\\\train\\\\*\\\\*.json\")\n",
    "train_img_list = glob(\"C:\\\\data\\\\train\\\\*\\\\*.png\")\n",
    "val_json_list = glob(\"C:\\\\data\\\\valid\\\\*\\\\*.json\")\n",
    "val_img_list = glob(\"C:\\\\data\\\\valid\\\\*\\\\*.png\")"
   ]
  },
  {
   "cell_type": "code",
   "execution_count": 3,
   "id": "1200f61d-95ef-4f29-88db-62f570bd399a",
   "metadata": {},
   "outputs": [],
   "source": [
    "# json 파일에서 bbox 정보 리스트로 불러오기\n",
    "def bbox_list(json_list):\n",
    "    tmp = []\n",
    "    for item in json_list:\n",
    "        with open(item, 'r', encoding='utf8') as f:\n",
    "            json_data = json.load(f)\n",
    "            json_data = json_data['annotations']\n",
    "            tmp.append(json_data)\n",
    "    return tmp\n",
    "\n",
    "# bbox 정보 리스트를 DataFrame으로 작성\n",
    "def make_df(bbox_list):\n",
    "    tmp_df = pd.DataFrame()\n",
    "    for i in range(len(bbox_list)):\n",
    "        tmp = pd.DataFrame(bbox_list[i])\n",
    "        tmp['fileno'] = i\n",
    "        tmp_df = pd.concat([tmp_df, tmp])\n",
    "        tmp_df = tmp_df[['fileno', 'label', 'points']]\n",
    "    return tmp_df\n",
    "\n",
    "# bbox 정보 리스트와 작성한 DataFrame을 바탕으로 yolo 좌표를 추출하고\n",
    "# DataFrame에 결합\n",
    "def yolo_trans_df(bbox_list,df):\n",
    "    tmp_list = []\n",
    "    for i in range(len(bbox_list)):\n",
    "        tmp = df[df.fileno == i]\n",
    "        for j in range(len(tmp)):\n",
    "            top_left = tmp.points[j][0]\n",
    "            top_right = tmp.points[j][1]\n",
    "            bottom_right = tmp.points[j][2]\n",
    "            bottom_left = tmp.points[j][3]\n",
    "\n",
    "            w = bottom_right[0] - bottom_left[0]\n",
    "            h = bottom_right[1] - top_right[1]\n",
    "            x = bottom_right[0] - w/2\n",
    "            y = bottom_right[1] - h/2\n",
    "\n",
    "            a1 = x / 1920\n",
    "            a2 = y / 1080\n",
    "            a3 = w / 1920\n",
    "            a4 = h / 1080\n",
    "\n",
    "            tmp_list.append(str(a1) + ' ' + str(a2) + ' ' + str(a3) + ' ' + str(a4))\n",
    "\n",
    "    yolo = pd.DataFrame(tmp_list)\n",
    "    df = df.reset_index(drop=True)\n",
    "    df = pd.concat([df, yolo], axis=1)\n",
    "    \n",
    "    return df\n",
    "\n",
    "# 중복값을 제거하여 카테고리를 딕셔너리로 생성\n",
    "def make_category(json_list, bbox_list):\n",
    "    cat = []\n",
    "    for i in range(len(bbox_list)):\n",
    "        for j in range(len(bbox_list[i])):\n",
    "            cat.append(bbox_list[i][j]['label'])\n",
    "        cat_list = sorted(list(set(cat)))\n",
    "        cat_dic = {string : idx for idx,string in enumerate(cat_list)}\n",
    "\n",
    "    return cat_dic\n",
    "\n",
    "# yolo 라벨을 txt로 저장\n",
    "def yolo_label(img_list, df, cat_dic, directory):\n",
    "    img_nm = []\n",
    "    for i in range(len(img_list)):\n",
    "        img_nm.append(img_list[i].split('\\\\')[-1].split('.')[0].split('_')[-1])\n",
    "\n",
    "    for i in range(len(img_list)):\n",
    "        f = open(directory + f\"{img_nm[i]}.txt\", \"w\")\n",
    "        for j in range(len(df[df.fileno == i])):\n",
    "            tmp = df[df.fileno == i]\n",
    "            tmp = tmp.reset_index(drop=True)\n",
    "            f.write(f\"{cat_dic[tmp.loc[j].label]} {tmp[0][j]}\\n\")\n",
    "    f.close()"
   ]
  },
  {
   "cell_type": "code",
   "execution_count": 4,
   "id": "9825749e-2fae-4080-9b87-c4661b3f8361",
   "metadata": {},
   "outputs": [],
   "source": [
    "tr_bbox = bbox_list(train_json_list)\n",
    "val_bbox = bbox_list(val_json_list)\n",
    "\n",
    "tr_df = make_df(tr_bbox)\n",
    "val_df = make_df(val_bbox)\n",
    "\n",
    "tr_df = yolo_trans_df(tr_bbox, tr_df)\n",
    "val_df = yolo_trans_df(val_bbox, val_df)\n",
    "\n",
    "cat_dic = make_category(train_json_list, tr_bbox)\n",
    "\n",
    "\n",
    "train_directory = \"C:\\\\data\\\\train\\\\labels\\\\\"\n",
    "valid_directory = \"C:\\\\data\\\\valid\\\\labels\\\\\"\n",
    "\n",
    "yolo_label(train_img_list, tr_df, cat_dic, train_directory)\n",
    "yolo_label(val_img_list, val_df, cat_dic, valid_directory)"
   ]
  },
  {
   "cell_type": "code",
   "execution_count": 5,
   "id": "bc9b8fba-0fcd-423c-b1db-7ce3f5820595",
   "metadata": {},
   "outputs": [
    {
     "data": {
      "text/plain": [
       "{'목적차량(특장차)': 0, '보행자': 1, '이륜차': 2, '일반차량': 3}"
      ]
     },
     "execution_count": 5,
     "metadata": {},
     "output_type": "execute_result"
    }
   ],
   "source": [
    "cat_dic"
   ]
  },
  {
   "cell_type": "code",
   "execution_count": null,
   "id": "f18e5998-ab44-4c75-9edb-32db7fd0bb07",
   "metadata": {},
   "outputs": [],
   "source": []
  }
 ],
 "metadata": {
  "kernelspec": {
   "display_name": "yolo",
   "language": "python",
   "name": "yolo"
  },
  "language_info": {
   "codemirror_mode": {
    "name": "ipython",
    "version": 3
   },
   "file_extension": ".py",
   "mimetype": "text/x-python",
   "name": "python",
   "nbconvert_exporter": "python",
   "pygments_lexer": "ipython3",
   "version": "3.7.13"
  }
 },
 "nbformat": 4,
 "nbformat_minor": 5
}
