{
 "cells": [
  {
   "cell_type": "code",
   "execution_count": 10,
   "id": "3a6068da-51fa-4bbc-be65-a219708cf7d2",
   "metadata": {},
   "outputs": [],
   "source": [
    "from PIL import Image, ImageFile\n",
    "ImageFile.LOAD_TRUNCATED_IMAGES = True\n",
    "from glob import glob"
   ]
  },
  {
   "cell_type": "code",
   "execution_count": 11,
   "id": "9e99e807-098a-4bc0-83f7-aa89eb6d5482",
   "metadata": {},
   "outputs": [],
   "source": [
    "train_img = glob(\"C:\\\\data\\\\train\\\\images\\\\*.png\")\n",
    "valid_img = glob(\"C:\\\\data\\\\valid\\\\images\\\\*.png\")\n",
    "\n",
    "train_img_reszied = \"C:\\\\data\\\\train\\\\images_resized\\\\\"\n",
    "valid_img_reszied = \"C:\\\\data\\\\valid\\\\images_resized\\\\\""
   ]
  },
  {
   "cell_type": "code",
   "execution_count": 12,
   "id": "535780a3-8fe5-46f6-9506-1b8d0bc55b07",
   "metadata": {},
   "outputs": [],
   "source": [
    "def image_resize(img_dir_list, save_dir):\n",
    "    for i in range(len(img_dir_list)):\n",
    "        img = Image.open(img_dir_list[i])\n",
    "        img_resize = img.resize((320, 320))\n",
    "        img_resize.save(save_dir + img_dir_list[i].split('_')[-1].split('.')[0] + \".png\")"
   ]
  },
  {
   "cell_type": "code",
   "execution_count": 13,
   "id": "67290564-1355-4d28-bb01-2340537cd665",
   "metadata": {
    "tags": []
   },
   "outputs": [],
   "source": [
    "image_resize(train_img, train_img_reszied)\n",
    "image_resize(valid_img, valid_img_reszied)"
   ]
  },
  {
   "cell_type": "code",
   "execution_count": null,
   "id": "f2a61ea7-5c72-4afe-ae4e-ad98f7284fb4",
   "metadata": {},
   "outputs": [],
   "source": []
  }
 ],
 "metadata": {
  "kernelspec": {
   "display_name": "yolo",
   "language": "python",
   "name": "yolo"
  },
  "language_info": {
   "codemirror_mode": {
    "name": "ipython",
    "version": 3
   },
   "file_extension": ".py",
   "mimetype": "text/x-python",
   "name": "python",
   "nbconvert_exporter": "python",
   "pygments_lexer": "ipython3",
   "version": "3.7.13"
  }
 },
 "nbformat": 4,
 "nbformat_minor": 5
}
